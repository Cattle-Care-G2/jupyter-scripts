{
 "cells": [
  {
   "cell_type": "code",
   "execution_count": 16,
   "id": "c46b5cd2",
   "metadata": {},
   "outputs": [
    {
     "name": "stdout",
     "output_type": "stream",
     "text": [
      "\u001b[33mWARNING: Running pip install with root privileges is generally not a good idea. Try `python3 -m pip install --user` instead.\u001b[0m\n",
      "Requirement already satisfied: pyspark in /usr/local/lib/python3.7/site-packages (3.4.3)\n",
      "Requirement already satisfied: boto3 in /usr/local/lib/python3.7/site-packages (1.33.13)\n",
      "Requirement already satisfied: pandas in /usr/local/lib64/python3.7/site-packages (1.3.5)\n",
      "Requirement already satisfied: py4j==0.10.9.7 in /usr/local/lib/python3.7/site-packages (from pyspark) (0.10.9.7)\n",
      "Requirement already satisfied: jmespath<2.0.0,>=0.7.1 in /usr/local/lib/python3.7/site-packages (from boto3) (1.0.1)\n",
      "Requirement already satisfied: s3transfer<0.9.0,>=0.8.2 in /usr/local/lib/python3.7/site-packages (from boto3) (0.8.2)\n",
      "Requirement already satisfied: botocore<1.34.0,>=1.33.13 in /usr/local/lib/python3.7/site-packages (from boto3) (1.33.13)\n",
      "Requirement already satisfied: numpy>=1.17.3; platform_machine != \"aarch64\" and platform_machine != \"arm64\" and python_version < \"3.10\" in /usr/local/lib64/python3.7/site-packages (from pandas) (1.21.6)\n",
      "Requirement already satisfied: pytz>=2017.3 in /usr/local/lib/python3.7/site-packages (from pandas) (2024.1)\n",
      "Requirement already satisfied: python-dateutil>=2.7.3 in /usr/local/lib/python3.7/site-packages (from pandas) (2.9.0.post0)\n",
      "Requirement already satisfied: urllib3<1.27,>=1.25.4; python_version < \"3.10\" in /usr/local/lib/python3.7/site-packages (from botocore<1.34.0,>=1.33.13->boto3) (1.26.20)\n",
      "Requirement already satisfied: six>=1.5 in /usr/local/lib/python3.7/site-packages (from python-dateutil>=2.7.3->pandas) (1.16.0)\n",
      "Note: you may need to restart the kernel to use updated packages.\n"
     ]
    }
   ],
   "source": [
    "pip install pyspark boto3 pandas \n"
   ]
  },
  {
   "cell_type": "code",
   "execution_count": 12,
   "id": "0c21decd",
   "metadata": {},
   "outputs": [
    {
     "name": "stdout",
     "output_type": "stream",
     "text": [
      "/usr/bin/sh: apt-get: command not found\n",
      "--2024-09-20 03:11:52--  https://dev.mysql.com/get/Downloads/Connector-J/mysql-connector-j-9.0.0.tar.gz\n",
      "Resolving dev.mysql.com (dev.mysql.com)... 184.27.10.232, 2600:1408:9000:78e::2e31, 2600:1408:9000:79a::2e31\n",
      "Connecting to dev.mysql.com (dev.mysql.com)|184.27.10.232|:443... connected.\n",
      "HTTP request sent, awaiting response... 302 Moved Temporarily\n",
      "Location: https://cdn.mysql.com//Downloads/Connector-J/mysql-connector-j-9.0.0.tar.gz [following]\n",
      "--2024-09-20 03:11:53--  https://cdn.mysql.com//Downloads/Connector-J/mysql-connector-j-9.0.0.tar.gz\n",
      "Resolving cdn.mysql.com (cdn.mysql.com)... 184.25.42.21, 2600:1408:c400:1884::1d68, 2600:1408:c400:188d::1d68\n",
      "Connecting to cdn.mysql.com (cdn.mysql.com)|184.25.42.21|:443... connected.\n",
      "HTTP request sent, awaiting response... 200 OK\n",
      "Length: 4469329 (4.3M) [application/x-tar-gz]\n",
      "Saving to: ‘mysql-connector-j-9.0.0.tar.gz’\n",
      "\n",
      "100%[======================================>] 4,469,329   --.-K/s   in 0.02s   \n",
      "\n",
      "2024-09-20 03:11:53 (204 MB/s) - ‘mysql-connector-j-9.0.0.tar.gz’ saved [4469329/4469329]\n",
      "\n",
      "mysql-connector-j-9.0.0\n",
      "mysql-connector-j_9.0.0-1ubuntu24.04_all.deb\n",
      "mysql-connector-j_9.0.0-1ubuntu24.04_all.deb.1\n",
      "mysql-connector-j_9.0.0-1ubuntu24.04_all.deb.2\n",
      "mysql-connector-j_9.0.0-1ubuntu24.04_all.deb.3\n",
      "mysql-connector-j-9.0.0.tar.gz\n",
      "rawToTrusted.ipynb\n",
      "TrustedToClient.ipynb\n"
     ]
    }
   ],
   "source": [
    "# !apt-get install dpkg-deb\n",
    "# !wget https://dev.mysql.com/get/Downloads/Connector-J/mysql-connector-j-9.0.0.tar.gz\n",
    "# !tar -xzf mysql-connector-j-9.0.0.tar.gz\n"
   ]
  },
  {
   "cell_type": "code",
   "execution_count": 15,
   "id": "c515024d",
   "metadata": {},
   "outputs": [],
   "source": [
    "# !mv mysql-connector-j-9.0.0/mysql-connector-j-9.0.0.jar /usr/local/lib/"
   ]
  },
  {
   "cell_type": "code",
   "execution_count": 17,
   "id": "cfbcc775",
   "metadata": {},
   "outputs": [],
   "source": [
    "from pyspark import SparkConf\n",
    "from pyspark.sql import SparkSession\n",
    "import boto3\n",
    "from datetime import datetime\n",
    "from pyspark.sql.functions import *\n",
    "import pandas as pd\n",
    "import pandas"
   ]
  },
  {
   "cell_type": "code",
   "execution_count": 18,
   "id": "7e6f7d26",
   "metadata": {},
   "outputs": [
    {
     "name": "stderr",
     "output_type": "stream",
     "text": [
      "/usr/local/lib/python3.7/site-packages/boto3/compat.py:82: PythonDeprecationWarning: Boto3 will no longer support Python 3.7 starting December 13, 2023. To continue receiving service updates, bug fixes, and security updates please upgrade to Python 3.8 or later. More information can be found here: https://aws.amazon.com/blogs/developer/python-support-policy-updates-for-aws-sdks-and-tools/\n",
      "  warnings.warn(warning, PythonDeprecationWarning)\n"
     ]
    },
    {
     "name": "stdout",
     "output_type": "stream",
     "text": [
      "2024-03-03 22:00:00.335932\n",
      "2024-03-11 13:00:00.101344\n",
      "a mais nova é 2024-03-11 13:00:00.101344\n"
     ]
    }
   ],
   "source": [
    "s3 = boto3.client('s3')\n",
    "bucket_name = 'g2-s3-trusted'\n",
    "bucket_name_destination = 'g2-s3-client'\n",
    "response = s3.list_objects_v2(Bucket=bucket_name)\n",
    "nomes_sensores = []\n",
    "latest = datetime.strptime(response['Contents'][0]['Key'][6:32], \"%Y-%m-%d %H:%M:%S.%f\")\n",
    "\n",
    "for nome in response['Contents']:\n",
    "    actual_file_date = datetime.strptime(nome['Key'][6:32], \"%Y-%m-%d %H:%M:%S.%f\")\n",
    "    print(nome['Key'][6:32])\n",
    "    if actual_file_date > latest:\n",
    "        latest = actual_file_date\n",
    "        \n",
    "print(f\"a mais nova é {latest}\")"
   ]
  },
  {
   "cell_type": "code",
   "execution_count": 19,
   "id": "52542b8e",
   "metadata": {},
   "outputs": [
    {
     "name": "stdout",
     "output_type": "stream",
     "text": [
      ":: loading settings :: url = jar:file:/usr/local/lib/python3.7/site-packages/pyspark/jars/ivy-2.5.1.jar!/org/apache/ivy/core/settings/ivysettings.xml\n"
     ]
    },
    {
     "name": "stderr",
     "output_type": "stream",
     "text": [
      "Ivy Default Cache set to: /root/.ivy2/cache\n",
      "The jars for the packages stored in: /root/.ivy2/jars\n",
      "org.apache.hadoop#hadoop-aws added as a dependency\n",
      "com.amazonaws#aws-java-sdk-bundle added as a dependency\n",
      ":: resolving dependencies :: org.apache.spark#spark-submit-parent-352955a9-e081-491f-abf9-e9a35f2c9bb2;1.0\n",
      "\tconfs: [default]\n",
      "\tfound org.apache.hadoop#hadoop-aws;3.3.4 in central\n",
      "\tfound com.amazonaws#aws-java-sdk-bundle;1.12.262 in central\n",
      "\tfound org.wildfly.openssl#wildfly-openssl;1.0.7.Final in central\n",
      ":: resolution report :: resolve 545ms :: artifacts dl 36ms\n",
      "\t:: modules in use:\n",
      "\tcom.amazonaws#aws-java-sdk-bundle;1.12.262 from central in [default]\n",
      "\torg.apache.hadoop#hadoop-aws;3.3.4 from central in [default]\n",
      "\torg.wildfly.openssl#wildfly-openssl;1.0.7.Final from central in [default]\n",
      "\t:: evicted modules:\n",
      "\tcom.amazonaws#aws-java-sdk-bundle;1.11.900 by [com.amazonaws#aws-java-sdk-bundle;1.12.262] in [default]\n",
      "\t---------------------------------------------------------------------\n",
      "\t|                  |            modules            ||   artifacts   |\n",
      "\t|       conf       | number| search|dwnlded|evicted|| number|dwnlded|\n",
      "\t---------------------------------------------------------------------\n",
      "\t|      default     |   4   |   0   |   0   |   1   ||   3   |   0   |\n",
      "\t---------------------------------------------------------------------\n",
      ":: retrieving :: org.apache.spark#spark-submit-parent-352955a9-e081-491f-abf9-e9a35f2c9bb2\n",
      "\tconfs: [default]\n",
      "\t0 artifacts copied, 3 already retrieved (0kB/21ms)\n",
      "24/09/20 03:14:58 WARN NativeCodeLoader: Unable to load native-hadoop library for your platform... using builtin-java classes where applicable\n",
      "Setting default log level to \"WARN\".\n",
      "To adjust logging level use sc.setLogLevel(newLevel). For SparkR, use setLogLevel(newLevel).\n",
      "/usr/local/lib/python3.7/site-packages/pyspark/context.py:317: FutureWarning: Python 3.7 support is deprecated in Spark 3.4.\n",
      "  warnings.warn(\"Python 3.7 support is deprecated in Spark 3.4.\", FutureWarning)\n"
     ]
    },
    {
     "name": "stdout",
     "output_type": "stream",
     "text": [
      "until_2024-03-11 13:00:00.101344.csv\n"
     ]
    }
   ],
   "source": [
    "conf = SparkConf()\n",
    "conf.set(\"spark.jars.packages\", \"org.apache.hadoop:hadoop-aws:3.3.4,com.amazonaws:aws-java-sdk-bundle:1.11.900\")\n",
    "conf.set(\"spark.jars\", \"/usr/local/lib/mysql-connector-j-9.0.0.jar\")\n",
    "conf.set('spark.hadoop.fs.s3a.aws.credentials.provider', 'com.amazonaws.auth.InstanceProfileCredentialsProvider')\n",
    "conf.set(\"spark.hadoop.fs.s3a.endpoint\", \"s3.amazonaws.com\")\n",
    "spark = SparkSession.builder.config(conf=conf).getOrCreate()\n",
    "print(f'until_{latest.strftime(\"%Y-%m-%d %H:%M:%S.%f\")}.csv')"
   ]
  },
  {
   "cell_type": "code",
   "execution_count": 20,
   "id": "049117ec",
   "metadata": {},
   "outputs": [
    {
     "name": "stderr",
     "output_type": "stream",
     "text": [
      "24/09/20 03:15:10 WARN MetricsConfig: Cannot locate configuration: tried hadoop-metrics2-s3a-file-system.properties,hadoop-metrics2.properties\n",
      "                                                                                \r"
     ]
    }
   ],
   "source": [
    "data = spark.read.option('delimiter', ',').option('header', 'true').csv(f's3a://{bucket_name}/until_{latest.strftime(\"%Y-%m-%d %H:%M:%S.%f\")}.csv')"
   ]
  },
  {
   "cell_type": "code",
   "execution_count": 21,
   "id": "405e8fab",
   "metadata": {},
   "outputs": [
    {
     "name": "stdout",
     "output_type": "stream",
     "text": [
      "root\n",
      " |-- timestamp: string (nullable = true)\n",
      " |-- gydci: string (nullable = true)\n",
      " |-- gyneo: string (nullable = true)\n",
      " |-- keyestudio: string (nullable = true)\n",
      " |-- mq4_buthane: string (nullable = true)\n",
      " |-- mq4_methane: string (nullable = true)\n",
      " |-- proteus: string (nullable = true)\n",
      "\n"
     ]
    }
   ],
   "source": [
    "data.printSchema()"
   ]
  },
  {
   "cell_type": "code",
   "execution_count": 22,
   "id": "14aefa0b",
   "metadata": {},
   "outputs": [
    {
     "name": "stdout",
     "output_type": "stream",
     "text": [
      "+--------------------+-----+--------------------+----------+-----------+-----------+----------+\n",
      "|           timestamp|gydci|               gyneo|keyestudio|mq4_buthane|mq4_methane|   proteus|\n",
      "+--------------------+-----+--------------------+----------+-----------+-----------+----------+\n",
      "|2024-03-01 01:00:...|  0.0|                   0|         0|          0|    1963.95|1895.71015|\n",
      "|2024-03-01 01:00:...|  0.0|                   0|         0|          0|      869.7| 2748.6147|\n",
      "|2024-03-01 02:00:...|  0.0|                   0|         0|          0|    4876.39|2433.83384|\n",
      "|2024-03-01 02:00:...|  0.0|                   0|         0|          0|    3777.88|1949.84186|\n",
      "|2024-03-01 03:00:...| 40.1|                   0|         0|          0|    3809.04|2399.63643|\n",
      "|2024-03-01 03:00:...| 42.0|                   0|         0|          0|    4770.14|2844.21008|\n",
      "|2024-03-01 04:00:...| 42.0|{'lat': -6.293392...|         0|          0|    2867.06|2162.27918|\n",
      "|2024-03-01 04:00:...| 42.0|{'lat': -6.279693...|         0|          0|     2978.5|2814.09451|\n",
      "|2024-03-01 05:00:...| 42.0|{'lat': -6.279693...|         0|          0|    1678.24|2131.47357|\n",
      "|2024-03-01 05:00:...| 42.0|{'lat': -6.279693...|         0|          0|    1776.43|2609.39783|\n",
      "|2024-03-01 06:00:...| 41.8|{'lat': -6.279693...|         0|          0|     633.53|2006.42837|\n",
      "|2024-03-01 06:00:...| 40.9|{'lat': -6.279693...|         0|          0|    4757.21|2430.14409|\n",
      "|2024-03-01 07:00:...| 40.9|{'lat': -6.279693...|         0|          0|    4757.21|2074.11597|\n",
      "|2024-03-01 07:00:...| 40.9|{'lat': -6.279693...|         0|          0|    4757.21|2814.80175|\n",
      "|2024-03-01 08:00:...| 40.9|{'lat': -6.322055...|         0|          0|    4757.21|2854.04202|\n",
      "|2024-03-01 08:00:...| 40.9|{'lat': -6.486498...|         0|          0|    4757.21|2376.99807|\n",
      "|2024-03-01 09:00:...| 40.9|{'lat': -6.486498...|         0|          0|    4757.21|3086.69234|\n",
      "|2024-03-01 10:00:...| 40.9|{'lat': -6.486498...|         0|          0|    4757.21|2685.73879|\n",
      "|2024-03-01 10:00:...| 40.9|{'lat': -6.486498...|         0|          0|    4757.21|2528.72475|\n",
      "|2024-03-01 11:00:...| 40.9|{'lat': -6.486498...|         0|          0|    4757.21|2832.60207|\n",
      "+--------------------+-----+--------------------+----------+-----------+-----------+----------+\n",
      "only showing top 20 rows\n",
      "\n"
     ]
    }
   ],
   "source": [
    "data.show()"
   ]
  },
  {
   "cell_type": "code",
   "execution_count": 23,
   "id": "409807b7",
   "metadata": {},
   "outputs": [],
   "source": [
    "data_corrected = data.withColumn(\"keyestudio\", col(\"keyestudio\").cast(\"integer\")) \\\n",
    "                 .withColumn(\"timestamp\", to_timestamp(\"timestamp\", \"yyyy-MM-dd HH:mm:ss.SSSSSS\")) \\\n",
    "                 .withColumn(\"mq4_buthane\", col(\"mq4_buthane\").cast(\"double\")) \\\n",
    "                 .withColumn(\"gydci\", col(\"gydci\").cast(\"double\")) \\\n",
    "                 .withColumn(\"mq4_methane\", col(\"mq4_methane\").cast(\"double\")) \\\n",
    "                 .withColumn(\"proteus\", col(\"proteus\").cast(\"double\")) \\\n"
   ]
  },
  {
   "cell_type": "code",
   "execution_count": 24,
   "id": "fa629eb7",
   "metadata": {},
   "outputs": [
    {
     "name": "stdout",
     "output_type": "stream",
     "text": [
      "root\n",
      " |-- timestamp: timestamp (nullable = true)\n",
      " |-- gydci: double (nullable = true)\n",
      " |-- gyneo: string (nullable = true)\n",
      " |-- keyestudio: integer (nullable = true)\n",
      " |-- mq4_buthane: double (nullable = true)\n",
      " |-- mq4_methane: double (nullable = true)\n",
      " |-- proteus: double (nullable = true)\n",
      "\n"
     ]
    }
   ],
   "source": [
    "data_corrected.printSchema()"
   ]
  },
  {
   "cell_type": "code",
   "execution_count": 25,
   "id": "be92feda",
   "metadata": {},
   "outputs": [
    {
     "name": "stdout",
     "output_type": "stream",
     "text": [
      "+--------------------+-----+--------------------+----------+-----------+-----------+----------+\n",
      "|           timestamp|gydci|               gyneo|keyestudio|mq4_buthane|mq4_methane|   proteus|\n",
      "+--------------------+-----+--------------------+----------+-----------+-----------+----------+\n",
      "|2024-03-01 01:00:...|  0.0|                   0|         0|        0.0|    1963.95|1895.71015|\n",
      "|2024-03-01 01:00:...|  0.0|                   0|         0|        0.0|      869.7| 2748.6147|\n",
      "|2024-03-01 02:00:...|  0.0|                   0|         0|        0.0|    4876.39|2433.83384|\n",
      "|2024-03-01 02:00:...|  0.0|                   0|         0|        0.0|    3777.88|1949.84186|\n",
      "|2024-03-01 03:00:...| 40.1|                   0|         0|        0.0|    3809.04|2399.63643|\n",
      "|2024-03-01 03:00:...| 42.0|                   0|         0|        0.0|    4770.14|2844.21008|\n",
      "|2024-03-01 04:00:...| 42.0|{'lat': -6.293392...|         0|        0.0|    2867.06|2162.27918|\n",
      "|2024-03-01 04:00:...| 42.0|{'lat': -6.279693...|         0|        0.0|     2978.5|2814.09451|\n",
      "|2024-03-01 05:00:...| 42.0|{'lat': -6.279693...|         0|        0.0|    1678.24|2131.47357|\n",
      "|2024-03-01 05:00:...| 42.0|{'lat': -6.279693...|         0|        0.0|    1776.43|2609.39783|\n",
      "|2024-03-01 06:00:...| 41.8|{'lat': -6.279693...|         0|        0.0|     633.53|2006.42837|\n",
      "|2024-03-01 06:00:...| 40.9|{'lat': -6.279693...|         0|        0.0|    4757.21|2430.14409|\n",
      "|2024-03-01 07:00:...| 40.9|{'lat': -6.279693...|         0|        0.0|    4757.21|2074.11597|\n",
      "|2024-03-01 07:00:...| 40.9|{'lat': -6.279693...|         0|        0.0|    4757.21|2814.80175|\n",
      "|2024-03-01 08:00:...| 40.9|{'lat': -6.322055...|         0|        0.0|    4757.21|2854.04202|\n",
      "|2024-03-01 08:00:...| 40.9|{'lat': -6.486498...|         0|        0.0|    4757.21|2376.99807|\n",
      "|2024-03-01 09:00:...| 40.9|{'lat': -6.486498...|         0|        0.0|    4757.21|3086.69234|\n",
      "|2024-03-01 10:00:...| 40.9|{'lat': -6.486498...|         0|        0.0|    4757.21|2685.73879|\n",
      "|2024-03-01 10:00:...| 40.9|{'lat': -6.486498...|         0|        0.0|    4757.21|2528.72475|\n",
      "|2024-03-01 11:00:...| 40.9|{'lat': -6.486498...|         0|        0.0|    4757.21|2832.60207|\n",
      "+--------------------+-----+--------------------+----------+-----------+-----------+----------+\n",
      "only showing top 20 rows\n",
      "\n"
     ]
    }
   ],
   "source": [
    "data_corrected.show()"
   ]
  },
  {
   "cell_type": "code",
   "execution_count": 26,
   "id": "6af7638c",
   "metadata": {
    "scrolled": true
   },
   "outputs": [
    {
     "name": "stderr",
     "output_type": "stream",
     "text": [
      "24/09/20 03:15:32 WARN AbstractS3ACommitterFactory: Using standard FileOutputCommitter to commit work. This is slow and potentially unsafe.\n",
      "24/09/20 03:15:33 WARN AbstractS3ACommitterFactory: Using standard FileOutputCommitter to commit work. This is slow and potentially unsafe.\n",
      "                                                                                \r"
     ]
    }
   ],
   "source": [
    "data_corrected.write.csv(f's3a://g2-s3-client/values/complete_datasets/until_{latest}', mode='overwrite')"
   ]
  },
  {
   "cell_type": "code",
   "execution_count": 27,
   "id": "047d8fea",
   "metadata": {},
   "outputs": [
    {
     "name": "stdout",
     "output_type": "stream",
     "text": [
      "+-----------------------------+------------------------------+\n",
      "|get_json_object(gyneo, $.lat)|get_json_object(gyneo, $.long)|\n",
      "+-----------------------------+------------------------------+\n",
      "|                         null|                          null|\n",
      "|                         null|                          null|\n",
      "|                         null|                          null|\n",
      "|                         null|                          null|\n",
      "|                         null|                          null|\n",
      "|                         null|                          null|\n",
      "|           -6.293392349522247|             -51.5043530131051|\n",
      "|           -6.279693478046926|           -51.588349679569625|\n",
      "|           -6.279693478046926|           -51.588349679569625|\n",
      "|           -6.279693478046926|           -51.588349679569625|\n",
      "|           -6.279693478046926|           -51.588349679569625|\n",
      "|           -6.279693478046926|           -51.588349679569625|\n",
      "|           -6.279693478046926|           -51.588349679569625|\n",
      "|           -6.279693478046926|           -51.588349679569625|\n",
      "|           -6.322055441488573|            -51.98935538359325|\n",
      "|           -6.486498812477925|           -51.193341662611644|\n",
      "|           -6.486498812477925|           -51.193341662611644|\n",
      "|           -6.486498812477925|           -51.193341662611644|\n",
      "|           -6.486498812477925|           -51.193341662611644|\n",
      "|           -6.486498812477925|           -51.193341662611644|\n",
      "+-----------------------------+------------------------------+\n",
      "only showing top 20 rows\n",
      "\n"
     ]
    }
   ],
   "source": [
    "data.select(get_json_object(data.gyneo, '$.lat'), get_json_object(data.gyneo, '$.long')).show()"
   ]
  },
  {
   "cell_type": "code",
   "execution_count": 28,
   "id": "7f07c4f3",
   "metadata": {},
   "outputs": [],
   "source": [
    "data_corrected = data_corrected.withColumn('suspicious_water', when((col('proteus') > 10000) & (col('keyestudio')>600), True).otherwise(False))"
   ]
  },
  {
   "cell_type": "code",
   "execution_count": 30,
   "id": "a9ef2306",
   "metadata": {},
   "outputs": [
    {
     "name": "stdout",
     "output_type": "stream",
     "text": [
      "+--------------------+-----+--------------------+----------+-----------+-----------+----------+----------------+\n",
      "|           timestamp|gydci|               gyneo|keyestudio|mq4_buthane|mq4_methane|   proteus|suspicious_water|\n",
      "+--------------------+-----+--------------------+----------+-----------+-----------+----------+----------------+\n",
      "|2024-03-01 01:00:...|  0.0|                   0|         0|        0.0|    1963.95|1895.71015|           false|\n",
      "|2024-03-01 01:00:...|  0.0|                   0|         0|        0.0|      869.7| 2748.6147|           false|\n",
      "|2024-03-01 02:00:...|  0.0|                   0|         0|        0.0|    4876.39|2433.83384|           false|\n",
      "|2024-03-01 02:00:...|  0.0|                   0|         0|        0.0|    3777.88|1949.84186|           false|\n",
      "|2024-03-01 03:00:...| 40.1|                   0|         0|        0.0|    3809.04|2399.63643|           false|\n",
      "|2024-03-01 03:00:...| 42.0|                   0|         0|        0.0|    4770.14|2844.21008|           false|\n",
      "|2024-03-01 04:00:...| 42.0|{'lat': -6.293392...|         0|        0.0|    2867.06|2162.27918|           false|\n",
      "|2024-03-01 04:00:...| 42.0|{'lat': -6.279693...|         0|        0.0|     2978.5|2814.09451|           false|\n",
      "|2024-03-01 05:00:...| 42.0|{'lat': -6.279693...|         0|        0.0|    1678.24|2131.47357|           false|\n",
      "|2024-03-01 05:00:...| 42.0|{'lat': -6.279693...|         0|        0.0|    1776.43|2609.39783|           false|\n",
      "|2024-03-01 06:00:...| 41.8|{'lat': -6.279693...|         0|        0.0|     633.53|2006.42837|           false|\n",
      "|2024-03-01 06:00:...| 40.9|{'lat': -6.279693...|         0|        0.0|    4757.21|2430.14409|           false|\n",
      "|2024-03-01 07:00:...| 40.9|{'lat': -6.279693...|         0|        0.0|    4757.21|2074.11597|           false|\n",
      "|2024-03-01 07:00:...| 40.9|{'lat': -6.279693...|         0|        0.0|    4757.21|2814.80175|           false|\n",
      "|2024-03-01 08:00:...| 40.9|{'lat': -6.322055...|         0|        0.0|    4757.21|2854.04202|           false|\n",
      "|2024-03-01 08:00:...| 40.9|{'lat': -6.486498...|         0|        0.0|    4757.21|2376.99807|           false|\n",
      "|2024-03-01 09:00:...| 40.9|{'lat': -6.486498...|         0|        0.0|    4757.21|3086.69234|           false|\n",
      "|2024-03-01 10:00:...| 40.9|{'lat': -6.486498...|         0|        0.0|    4757.21|2685.73879|           false|\n",
      "|2024-03-01 10:00:...| 40.9|{'lat': -6.486498...|         0|        0.0|    4757.21|2528.72475|           false|\n",
      "|2024-03-01 11:00:...| 40.9|{'lat': -6.486498...|         0|        0.0|    4757.21|2832.60207|           false|\n",
      "+--------------------+-----+--------------------+----------+-----------+-----------+----------+----------------+\n",
      "only showing top 20 rows\n",
      "\n"
     ]
    },
    {
     "name": "stderr",
     "output_type": "stream",
     "text": [
      "24/09/20 03:17:15 WARN AbstractS3ACommitterFactory: Using standard FileOutputCommitter to commit work. This is slow and potentially unsafe.\n",
      "24/09/20 03:17:16 WARN AbstractS3ACommitterFactory: Using standard FileOutputCommitter to commit work. This is slow and potentially unsafe.\n",
      "                                                                                \r"
     ]
    }
   ],
   "source": [
    "#criar agrupamentos\n",
    "#criar colunas de classificação\n",
    "#criar dataset para geolocalização"
   ]
  },
  {
   "cell_type": "code",
   "execution_count": 32,
   "id": "0d8dccf6",
   "metadata": {},
   "outputs": [
    {
     "name": "stderr",
     "output_type": "stream",
     "text": [
      "                                                                                \r"
     ]
    }
   ],
   "source": [
    "jdbc_url = \"jdbc:mysql://52.87.180.211:3306/cattlecare\"\n",
    "table_name = \"values_sensors\"\n",
    "connection_properties = {\n",
    "    \"user\": \"root\",           \n",
    "    \"password\": \"toor_db\",  \n",
    "    \"driver\": \"com.mysql.cj.jdbc.Driver\"\n",
    "}\n",
    "data_corrected.write.jdbc(url=jdbc_url, table=table_name, mode=\"overwrite\", properties=connection_properties)"
   ]
  },
  {
   "cell_type": "code",
   "execution_count": null,
   "id": "339e7e5f",
   "metadata": {},
   "outputs": [],
   "source": []
  }
 ],
 "metadata": {
  "kernelspec": {
   "display_name": "Python 3 (ipykernel)",
   "language": "python",
   "name": "python3"
  },
  "language_info": {
   "codemirror_mode": {
    "name": "ipython",
    "version": 3
   },
   "file_extension": ".py",
   "mimetype": "text/x-python",
   "name": "python",
   "nbconvert_exporter": "python",
   "pygments_lexer": "ipython3",
   "version": "3.7.16"
  }
 },
 "nbformat": 4,
 "nbformat_minor": 5
}
